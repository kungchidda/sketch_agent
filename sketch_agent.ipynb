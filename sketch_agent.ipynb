{
 "cells": [
  {
   "cell_type": "code",
   "execution_count": 1,
   "id": "c5fc4bd0",
   "metadata": {},
   "outputs": [],
   "source": [
    "#!/usr/bin/env -S uv run --script\n",
    "# /// script\n",
    "# dependencies = [\n",
    "#   \"anthropic>=0.45.0\",\n",
    "# ]\n",
    "# ///\n",
    "import os\n",
    "import subprocess\n",
    "from typing import Dict, List, Any, Optional, Tuple, Union\n",
    "\n",
    "import anthropic\n",
    "\n"
   ]
  },
  {
   "cell_type": "code",
   "execution_count": 2,
   "id": "fe12dec2",
   "metadata": {},
   "outputs": [],
   "source": [
    "def main():\n",
    "    try:\n",
    "        print(\"\\n=== LLM Agent Loop with Claude and Bash Tool ===\\n\")\n",
    "        print(\"Type 'exit' to end the conversation.\\n\")\n",
    "        loop(LLM(\"claude-3-7-sonnet-latest\"))\n",
    "    except KeyboardInterrupt:\n",
    "        print(\"\\n\\nExiting. Goodbye!\")\n",
    "    except Exception as e:\n",
    "        print(f\"\\n\\nAn error occurred: {str(e)}\")\n",
    "\n"
   ]
  },
  {
   "cell_type": "code",
   "execution_count": 3,
   "id": "23b45ea5",
   "metadata": {},
   "outputs": [],
   "source": [
    "def loop(llm):\n",
    "    msg = user_input()\n",
    "    while True:\n",
    "        output, tool_calls = llm(msg)\n",
    "        print(\"Agent: \", output)\n",
    "        if tool_calls:\n",
    "            msg = [ handle_tool_call(tc) for tc in tool_calls ]\n",
    "        else:\n",
    "            msg = user_input()\n",
    "\n",
    "\n"
   ]
  },
  {
   "cell_type": "code",
   "execution_count": 4,
   "id": "6360289f",
   "metadata": {},
   "outputs": [],
   "source": [
    "bash_tool = {\n",
    "    \"name\": \"bash\",\n",
    "    \"description\": \"Execute bash commands and return the output\",\n",
    "    \"input_schema\": {\n",
    "        \"type\": \"object\",\n",
    "        \"properties\": {\n",
    "            \"command\": {\n",
    "                \"type\": \"string\",\n",
    "                \"description\": \"The bash command to execute\"\n",
    "            }\n",
    "        },\n",
    "        \"required\": [\"command\"]\n",
    "    }\n",
    "}\n",
    "\n"
   ]
  },
  {
   "cell_type": "code",
   "execution_count": 5,
   "id": "071f7ae2",
   "metadata": {},
   "outputs": [],
   "source": [
    "# Function to execute bash commands\n",
    "def execute_bash(command):\n",
    "    \"\"\"Execute a bash command and return a formatted string with the results.\"\"\"\n",
    "    # If we have a timeout exception, we'll return an error message instead\n",
    "    try:\n",
    "        result = subprocess.run(\n",
    "            [\"bash\", \"-c\", command],\n",
    "            capture_output=True,\n",
    "            text=True,\n",
    "            timeout=10\n",
    "        )\n",
    "        return f\"STDOUT:\\n{result.stdout}\\nSTDERR:\\n{result.stderr}\\nEXIT CODE: {result.returncode}\"\n",
    "    except Exception as e:\n",
    "        return f\"Error executing command: {str(e)}\"\n",
    "\n"
   ]
  },
  {
   "cell_type": "code",
   "execution_count": 6,
   "id": "892df5f5",
   "metadata": {},
   "outputs": [],
   "source": [
    "def user_input():\n",
    "    x = input(\"You: \")\n",
    "    if x.lower() in [\"exit\", \"quit\"]:\n",
    "        print(\"\\nExiting agent loop. Goodbye!\")\n",
    "        raise SystemExit(0)\n",
    "    return [{\"type\": \"text\", \"text\": x}]\n",
    "\n"
   ]
  },
  {
   "cell_type": "code",
   "execution_count": 7,
   "id": "a702b644",
   "metadata": {},
   "outputs": [],
   "source": [
    "class LLM:\n",
    "    def __init__(self, model):\n",
    "        if \"ANTHROPIC_API_KEY\" not in os.environ:\n",
    "            raise ValueError(\"ANTHROPIC_API_KEY environment variable not found.\")\n",
    "        self.client = anthropic.Anthropic()\n",
    "        self.model = model\n",
    "        self.messages = []\n",
    "        self.system_prompt = \"\"\"You are a helpful AI assistant with access to bash commands.\n",
    "        You can help the user by executing commands and interpreting the results.\n",
    "        Be careful with destructive commands and always explain what you're doing.\n",
    "        You have access to the bash tool which allows you to run shell commands.\"\"\"\n",
    "        self.tools = [bash_tool]\n",
    "\n",
    "    def __call__(self, content):\n",
    "        self.messages.append({\"role\": \"user\", \"content\": content})\n",
    "        self.messages[-1][\"content\"][-1][\"cache_control\"] = {\"type\": \"ephemeral\"}\n",
    "        response = self.client.messages.create(\n",
    "            model=self.model,\n",
    "            max_tokens=20_000,\n",
    "            system=self.system_prompt,\n",
    "            messages=self.messages,\n",
    "            tools=self.tools\n",
    "        )\n",
    "        del self.messages[-1][\"content\"][-1][\"cache_control\"]\n",
    "        assistant_response = {\"role\": \"assistant\", \"content\": []}\n",
    "        tool_calls = []\n",
    "        output_text = \"\"\n",
    "\n",
    "        for content in response.content:\n",
    "            if content.type == \"text\":\n",
    "                text_content = content.text\n",
    "                output_text += text_content\n",
    "                assistant_response[\"content\"].append({\"type\": \"text\", \"text\": text_content})\n",
    "            elif content.type == \"tool_use\":\n",
    "                assistant_response[\"content\"].append(content)\n",
    "                tool_calls.append({\n",
    "                    \"id\": content.id,\n",
    "                    \"name\": content.name,\n",
    "                    \"input\": content.input\n",
    "                })\n",
    "\n",
    "        self.messages.append(assistant_response)\n",
    "        return output_text, tool_calls\n",
    "\n"
   ]
  },
  {
   "cell_type": "code",
   "execution_count": 8,
   "id": "c919dd7e",
   "metadata": {},
   "outputs": [],
   "source": [
    "def handle_tool_call(tool_call):\n",
    "    if tool_call[\"name\"] != \"bash\":\n",
    "        raise Exception(f\"Unsupported tool: {tool_call['name']}\")\n",
    "\n",
    "    command = tool_call[\"input\"][\"command\"]\n",
    "    print(f\"Executing bash command: {command}\")\n",
    "    output_text = execute_bash(command)\n",
    "    print(f\"Bash output:\\n{output_text}\")\n",
    "    return dict(\n",
    "        type=\"tool_result\",\n",
    "        tool_use_id=tool_call[\"id\"],\n",
    "        content=[dict(\n",
    "            type=\"text\",\n",
    "            text=output_text\n",
    "        )]\n",
    "    )\n",
    "\n"
   ]
  },
  {
   "cell_type": "code",
   "execution_count": 9,
   "id": "68490c0e",
   "metadata": {},
   "outputs": [
    {
     "name": "stdout",
     "output_type": "stream",
     "text": [
      "\n",
      "=== LLM Agent Loop with Claude and Bash Tool ===\n",
      "\n",
      "Type 'exit' to end the conversation.\n",
      "\n",
      "\n",
      "\n",
      "An error occurred: ANTHROPIC_API_KEY environment variable not found.\n"
     ]
    }
   ],
   "source": [
    "if __name__ == \"__main__\":\n",
    "    main()"
   ]
  },
  {
   "cell_type": "code",
   "execution_count": null,
   "id": "0bf23753",
   "metadata": {},
   "outputs": [],
   "source": []
  }
 ],
 "metadata": {
  "kernelspec": {
   "display_name": ".venv",
   "language": "python",
   "name": "python3"
  },
  "language_info": {
   "codemirror_mode": {
    "name": "ipython",
    "version": 3
   },
   "file_extension": ".py",
   "mimetype": "text/x-python",
   "name": "python",
   "nbconvert_exporter": "python",
   "pygments_lexer": "ipython3",
   "version": "3.12.3"
  }
 },
 "nbformat": 4,
 "nbformat_minor": 5
}
